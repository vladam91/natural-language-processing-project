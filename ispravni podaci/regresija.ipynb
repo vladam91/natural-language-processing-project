{
 "cells": [
  {
   "cell_type": "code",
   "execution_count": 6,
   "metadata": {},
   "outputs": [],
   "source": [
    "#Import every library and package needed for project\n",
    "\n",
    "#import pandas lib for table data.\n",
    "import pandas as pd\n",
    "\n",
    "#Our bayes model\n",
    "from sklearn.naive_bayes import MultinomialNB\n",
    "#Our logistic regression model\n",
    "from sklearn.linear_model import LogisticRegression\n",
    "#Our support vector machine model\n",
    "from sklearn import svm\n",
    "\n",
    "#Converts text words into numbers for model training.\n",
    "from sklearn.feature_extraction.text import CountVectorizer\n",
    "\n",
    "from sklearn.model_selection import cross_val_score\n",
    "from sklearn.pipeline import Pipeline\n",
    "from sklearn.model_selection import cross_validate\n",
    "from sklearn.model_selection import train_test_split\n",
    "from sklearn.metrics import classification_report, accuracy_score\n",
    "from sklearn.model_selection import GridSearchCV, StratifiedKFold\n",
    "from sklearn.feature_extraction.text import TfidfVectorizer\n",
    "\n",
    "import numpy as np\n",
    "from sklearn.linear_model import LinearRegression\n",
    "\n",
    "#import regex lib\n",
    "import re\n",
    "\n",
    "import matplotlib.pyplot as plt\n",
    "\n",
    "\n",
    "annotatedData = pd.read_csv(\"data.txt\", sep='\\t')"
   ]
  },
  {
   "cell_type": "code",
   "execution_count": 7,
   "metadata": {},
   "outputs": [
    {
     "name": "stdout",
     "output_type": "stream",
     "text": [
      "[0.98 0.6  0.83 0.66 0.56 0.61 0.67 0.65 0.55 0.69 0.63 0.36 0.62 0.15\n",
      " 0.3  0.17 0.33 0.59 0.68 0.71 0.2  0.94 0.05 0.19 0.35 0.13 0.92 0.73\n",
      " 0.7  0.29 0.4  0.95 0.51 0.52 0.8  0.82 0.42 0.45 0.79 0.44 0.87 0.91\n",
      " 0.88 0.81 0.14 0.11 0.41 0.48 0.77 0.9  0.39 0.31 0.78 0.64 0.1  0.89\n",
      " 0.34 0.09 0.02 0.12 0.58 0.16 0.84 0.57 0.54 0.76 0.28 0.01 0.38 0.21\n",
      " 0.53 0.18 0.   0.22 0.85 0.27 0.37 0.86 0.32 0.93 0.43 1.   0.03 0.46\n",
      " 0.99]\n"
     ]
    }
   ],
   "source": [
    "#Selecting only columns that matter for model training.\n",
    "corpus = annotatedData[['QueryText' , 'CommentText']]\n",
    "\n",
    "y = pd.DataFrame({'NumericScor' : annotatedData['NumericScor']})\n",
    "\n",
    "#y = annotatedData['NumericScor']\n",
    "\n",
    "#query_vectorizer = CountVectorizer(ngram_range=(1,1)) # to use bigrams ngram_range=(2,2)\n",
    "#query_vectors = query_vectorizer.fit_transform(annotatedData['QueryText'])\n",
    "\n",
    "comment_vectorizer = CountVectorizer(ngram_range=(1,1))\n",
    "comment_vectors = comment_vectorizer.fit_transform(annotatedData['CommentText'])\n",
    "\n",
    "#comment_vectorizer = TfidfVectorizer()\n",
    "#comment_vectors = comment_vectorizer.fit_transform(annotatedData['CommentText'])\n",
    "\n",
    "comment_columns = comment_vectorizer.get_feature_names()\n",
    "\n",
    "print(y.NumericScor.unique())"
   ]
  },
  {
   "cell_type": "code",
   "execution_count": 8,
   "metadata": {
    "scrolled": false
   },
   "outputs": [
    {
     "data": {
      "image/png": "[encoded data removed]",
      "text/plain": [
       "<Figure size 432x288 with 1 Axes>"
      ]
     },
     "metadata": {
      "needs_background": "light"
     },
     "output_type": "display_data"
    }
   ],
   "source": [
    "#returns number of words in string.\n",
    "def countWords(s):\n",
    "    return len(re.findall(r'\\w+', s))\n",
    "\n",
    "#find common words in two strings.\n",
    "def findCommonWords(s1, s2):\n",
    "      s1 = s1.lower()\n",
    "      s2 = s2.lower()\n",
    "      s1List = s1.split(\" \")\n",
    "      s2List = s2.split(\" \")\n",
    "      return len(list(set(s1List)&set(s2List)))\n",
    "    \n",
    "\n",
    "#makes new dataframe which is then used to train our models.\n",
    "def processData(corpus, y) :\n",
    "    \n",
    "    allColumns = ['numWordsQuery','numWordsComment','numCommonWords','NumericScor']\n",
    "    \n",
    "    for name in comment_columns:\n",
    "        allColumns.append(name)      \n",
    "         \n",
    "    d = {}\n",
    "    \n",
    "    for column in allColumns:\n",
    "        d[column] = []\n",
    "        \n",
    "    for index,row in corpus.iterrows():\n",
    "        \n",
    "        d['numWordsQuery'].append(countWords(row['QueryText']))\n",
    "        d['numWordsComment'].append(countWords(row['CommentText']))\n",
    "        d['numCommonWords'].append(findCommonWords(row['QueryText'],row['CommentText']))\n",
    "        d['NumericScor'].append(y.iloc[index]['NumericScor'])\n",
    "    \n",
    "        vectorComment = comment_vectorizer.transform([row['CommentText']])\n",
    "        vectorComment = vectorComment.toarray()\n",
    "    \n",
    "        for i, commentCol in enumerate(allColumns[4:]):\n",
    "            d[commentCol].append(vectorComment[0][i])\n",
    "         \n",
    "        \n",
    "    return pd.DataFrame.from_dict(d)\n",
    "                          \n",
    "                                 \n",
    "trainingData = processData(corpus,y)    \n",
    "\n",
    "y = trainingData['NumericScor']\n",
    "y = y.astype('int')\n",
    "\n",
    "X = trainingData.drop('NumericScor', 1)\n",
    "\n",
    "\n",
    "x_train, x_test, y_train, y_test = train_test_split(X, y ,test_size=0.3, random_state=42)\n",
    "\n",
    "plt.plot(x_train, y_train)\n",
    "\n",
    "\n",
    "plt.xlabel('x_train')\n",
    "# naming the y axis\n",
    "plt.ylabel('y_train')\n",
    "  \n",
    "# giving a title to my graph\n",
    "plt.title('Linearnost podataka')\n",
    "  \n",
    "# function to show the plot\n",
    "plt.show()"
   ]
  },
  {
   "cell_type": "code",
   "execution_count": 9,
   "metadata": {},
   "outputs": [
    {
     "data": {
      "text/plain": [
       "LinearRegression()"
      ]
     },
     "execution_count": 9,
     "metadata": {},
     "output_type": "execute_result"
    }
   ],
   "source": [
    "#Linearna regresija\n",
    "\n",
    "linReg = LinearRegression()\n",
    "\n",
    "linReg.fit(x_train, y_train)\n",
    "\n",
    "#skf = StratifiedKFold(n_splits=3)\n",
    "#params = {}\n",
    "#nb = LinearRegression()\n",
    "#gs = GridSearchCV(nb, cv=skf, param_grid=params, return_train_score=True)\n",
    "\n",
    "#p_reg = Pipeline([('classifier', nb)])\n",
    "#acc = cross_val_score(p_reg, X, y, cv = 10);\n",
    "\n",
    "#gs.fit(X,y)\n",
    "\n",
    "#bestModel = gs.best_estimator_"
   ]
  },
  {
   "cell_type": "code",
   "execution_count": 10,
   "metadata": {},
   "outputs": [
    {
     "name": "stdout",
     "output_type": "stream",
     "text": [
      "[0.03226252 0.03333508 0.03385906 0.03423218 0.03458986 0.03466207\n",
      " 0.03495164 0.03748651 0.0377582  0.03790685 0.03820644 0.03823465\n",
      " 0.04391477 0.04506968 0.04549275 0.05345643 0.05646877 0.05810595\n",
      " 0.06102118 0.06102118 0.06180707 0.06231959 0.06706612 0.08196303\n",
      " 0.09916407 0.11978357 0.13751863 0.13910212 0.23134206 0.92521453]\n"
     ]
    }
   ],
   "source": [
    "#predicted = bestModel.predict(x_test)\n",
    "predicted = linReg.predict(x_test)\n",
    "\n",
    "type(predicted)\n",
    "#print(np.argmax(predicted))\n",
    "#print(predicted[96])\n",
    "\n",
    "#sorted_index_array = np.argsort(predicted)\n",
    "#sorted_array = predicted[sorted_index_array]\n",
    "\n",
    "sorted = np.sort(predicted)\n",
    "\n",
    "n = 30\n",
    "\n",
    "rslt = sorted[-n : ]\n",
    "\n",
    "print(rslt)"
   ]
  },
  {
   "cell_type": "code",
   "execution_count": null,
   "metadata": {},
   "outputs": [],
   "source": []
  }
 ],
 "metadata": {
  "kernelspec": {
   "display_name": "Python 3",
   "language": "python",
   "name": "python3"
  },
  "language_info": {
   "codemirror_mode": {
    "name": "ipython",
    "version": 3
   },
   "file_extension": ".py",
   "mimetype": "text/x-python",
   "name": "python",
   "nbconvert_exporter": "python",
   "pygments_lexer": "ipython3",
   "version": "3.8.5"
  }
 },
 "nbformat": 4,
 "nbformat_minor": 4
}

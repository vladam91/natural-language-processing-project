{
 "cells": [
  {
   "cell_type": "code",
   "execution_count": 21,
   "metadata": {},
   "outputs": [],
   "source": [
    "#Import every library and package needed for project\n",
    "\n",
    "#import pandas lib for table data.\n",
    "import pandas as pd\n",
    "\n",
    "#Our bayes model\n",
    "from sklearn.naive_bayes import MultinomialNB\n",
    "#Our logistic regression model\n",
    "from sklearn.linear_model import LogisticRegression\n",
    "#Our support vector machine model\n",
    "from sklearn import svm\n",
    "\n",
    "#Converts text words into numbers for model training.\n",
    "#from sklearn.feature_extraction.text import CountVectorizer\n",
    "\n",
    "from sklearn.model_selection import cross_val_score\n",
    "from sklearn.pipeline import Pipeline\n",
    "from sklearn.model_selection import cross_validate\n",
    "from sklearn.model_selection import train_test_split\n",
    "from sklearn.metrics import classification_report, accuracy_score\n",
    "from sklearn.model_selection import GridSearchCV, StratifiedKFold\n",
    "\n",
    "import numpy as np\n",
    "from sklearn.linear_model import LinearRegression\n",
    "\n",
    "#import regex lib\n",
    "import re\n",
    "\n",
    "\n",
    "#Loading stemmed annotated data from phase 2.\n",
    "annotatedData = pd.read_csv(\"testiranje.txt\", sep='\\t')\n",
    "#annotatedData.head()"
   ]
  },
  {
   "cell_type": "code",
   "execution_count": 22,
   "metadata": {},
   "outputs": [],
   "source": [
    "#Selecting only columns that matter for model training.\n",
    "corpus = annotatedData[['QueryText' , 'CommentText']]\n",
    "\n",
    "#y = pd.DataFrame({'SimilarityScor' : annotatedData['SimilarityScor']})\n",
    "y = annotatedData[['SimilarityScor','NumericScore']]"
   ]
  },
  {
   "cell_type": "code",
   "execution_count": 23,
   "metadata": {
    "scrolled": true
   },
   "outputs": [],
   "source": [
    "#returns number of words in string.\n",
    "def countWords(s):\n",
    "    return len(re.findall(r'\\w+', s))\n",
    "\n",
    "#find common words in two strings.\n",
    "def findCommonWords(s1, s2):\n",
    "      s1 = s1.lower()\n",
    "      s2 = s2.lower()\n",
    "      s1List = s1.split(\" \")\n",
    "      s2List = s2.split(\" \")\n",
    "      return len(list(set(s1List)&set(s2List)))\n",
    "\n",
    "#makes new dataframe which is then used to train our models.\n",
    "def processTestData(corpus, y) :\n",
    "    \n",
    "    temp = pd.DataFrame(columns = ['numWordsQuery','numWordsComment','numCommonWords','SimilarityScor','NumericScore'])\n",
    "        \n",
    "    for i in range(0, len(corpus.index)):\n",
    "        \n",
    "        temp.loc[i, 'numWordsQuery'] = countWords(corpus.values[i][0])\n",
    "        temp.loc[i, 'numWordsComment'] = countWords(corpus.values[i][1])\n",
    "        temp.loc[i, 'numCommonWords'] = findCommonWords(corpus.values[i][0],corpus.values[i][1])\n",
    "        temp.loc[i, 'SimilarityScor'] = y.values[i][0]\n",
    "        temp.loc[i, 'NumericScore'] = y.values[i][1]\n",
    "        \n",
    "    return temp\n",
    "    \n",
    "trainingData = processTestData(corpus,y)    \n",
    "\n",
    "#returns new dataframe for test set\n",
    "def processPredictData(corpus) :\n",
    "    \n",
    "    temp = pd.DataFrame(columns = ['numWordsQuery','numWordsComment','numCommonWords'])\n",
    "        \n",
    "    for i in range(0, len(corpus.index)):\n",
    "        \n",
    "        temp.loc[i, 'numWordsQuery'] = countWords(corpus.values[i][0])\n",
    "        temp.loc[i, 'numWordsComment'] = countWords(corpus.values[i][1])\n",
    "        temp.loc[i, 'numCommonWords'] = findCommonWords(corpus.values[i][0],corpus.values[i][1])\n",
    "        \n",
    "    return temp\n",
    "    \n",
    "trainingData = processTestData(corpus,y)    \n",
    "\n",
    "X = trainingData[['numWordsQuery','numWordsComment','numCommonWords']]\n",
    "\n",
    "y = trainingData['SimilarityScor']\n",
    "y = y.astype('int')\n",
    "\n",
    "\n",
    "#yRegression = trainingData['NumericScore']\n",
    "#yRegression = yRegression.asType('int')"
   ]
  },
  {
   "cell_type": "code",
   "execution_count": 24,
   "metadata": {},
   "outputs": [
    {
     "name": "stdout",
     "output_type": "stream",
     "text": [
      "[0.57142857 0.4        0.6        0.51428571 0.51428571 0.62857143\n",
      " 0.54285714 0.45714286 0.54285714 0.58823529]\n",
      "Accuracy:  0.5359663865546218\n"
     ]
    }
   ],
   "source": [
    "#LOGISTICAL REGRESSION\n",
    "\n",
    "#10 layer cross validation to train and validate logistical regression model with tuning hyper params.\n",
    "logReg = LogisticRegression(penalty='l2',solver = 'liblinear', max_iter=100000)\n",
    "p_grid_lr = {'classifier__C' : [0.1, 0.5, 1.2]}\n",
    "p_logReg = Pipeline([('classifier', logReg)])\n",
    "gs_logReg = GridSearchCV(estimator=p_logReg, param_grid=p_grid_lr, cv = 10, scoring='accuracy')\n",
    "\n",
    "gs_logReg.fit(X,y)\n",
    "\n",
    "acc = cross_val_score(gs_logReg, X, y, cv = 10)\n",
    "\n",
    "print(acc)\n",
    "print(\"Accuracy: \", acc.mean())\n",
    "\n",
    "bestLRModel = gs_logReg.best_estimator_"
   ]
  },
  {
   "cell_type": "code",
   "execution_count": 25,
   "metadata": {},
   "outputs": [
    {
     "name": "stdout",
     "output_type": "stream",
     "text": [
      "[0.45714286 0.34285714 0.51428571 0.57142857 0.51428571 0.6\n",
      " 0.57142857 0.57142857 0.54285714 0.55882353]\n",
      "Accuracy:  0.5244537815126049\n"
     ]
    }
   ],
   "source": [
    "# 10 layer cross validation to train and validate SVM model.\n",
    "svmModel = svm.SVC(kernel='linear')\n",
    "#svmModel = svm.LinearSVC(penalty='l2', loss='squared_hinge', max_iter = 10000)\n",
    "\n",
    "p_grid_svm = {'classifier__C' : [0.3, 0.5, 0.9]}\n",
    "p_svm = Pipeline([('classifier', svmModel)])\n",
    "gs_SVM = GridSearchCV(estimator=p_svm, param_grid=p_grid_svm, cv = 10, scoring='accuracy')\n",
    "\n",
    "acc = cross_val_score(gs_SVM, X, y, cv = 10)\n",
    "\n",
    "print(acc)\n",
    "print(\"Accuracy: \", acc.mean())\n",
    "\n",
    "gs_SVM.fit(X,y)\n",
    "\n",
    "bestSVMModel = gs_SVM.best_estimator_"
   ]
  },
  {
   "cell_type": "code",
   "execution_count": 26,
   "metadata": {},
   "outputs": [
    {
     "name": "stdout",
     "output_type": "stream",
     "text": [
      "[0.54285714 0.4        0.54285714 0.45714286 0.45714286 0.31428571\n",
      " 0.48571429 0.48571429 0.45714286 0.47058824]\n",
      "Accuracy:  0.4613445378151261\n"
     ]
    },
    {
     "data": {
      "text/plain": [
       "Pipeline(steps=[('classifier', MultinomialNB())])"
      ]
     },
     "execution_count": 26,
     "metadata": {},
     "output_type": "execute_result"
    }
   ],
   "source": [
    "#NAIVE BAYES \n",
    "\n",
    "#bayes model with 10 layer cross validation\n",
    "bayes = MultinomialNB()\n",
    "\n",
    "p_bayes = Pipeline([('classifier', bayes)])\n",
    "acc = cross_val_score(p_bayes, X, y, cv = 10);\n",
    "\n",
    "print(acc)\n",
    "print(\"Accuracy: \", acc.mean())\n",
    "\n",
    "p_bayes.fit(X,y)"
   ]
  },
  {
   "cell_type": "code",
   "execution_count": 45,
   "metadata": {},
   "outputs": [
    {
     "data": {
      "text/plain": [
       "array([3, 0, 3])"
      ]
     },
     "execution_count": 45,
     "metadata": {},
     "output_type": "execute_result"
    }
   ],
   "source": [
    "#Predictions\n",
    "\n",
    "testSet = pd.read_csv(\"predict.txt\", sep='\\t')\n",
    "\n",
    "testSet = testSet[['QueryText' , 'CommentText']]\n",
    "\n",
    "testData =  processPredictData(testSet)\n",
    "\n",
    "#testData.head()\n",
    "\n",
    "\n",
    "#t = testSet[]\n",
    "\n",
    "#X.head()\n",
    "\n",
    "#\n",
    "\n",
    "#testData\n",
    "\n",
    "predictedData = bestLRModel.predict(testData)\n",
    "predictedData\n",
    "\n",
    "#print(predictedData[0], predictedData[1], predictedData[2])"
   ]
  },
  {
   "cell_type": "code",
   "execution_count": 52,
   "metadata": {},
   "outputs": [
    {
     "data": {
      "text/plain": [
       "array([2.10700631, 1.27678253, 2.29788204])"
      ]
     },
     "execution_count": 52,
     "metadata": {},
     "output_type": "execute_result"
    }
   ],
   "source": [
    "#linear regression\n",
    "\n",
    "linReg = LinearRegression()\n",
    "\n",
    "#params = linReg.get_params().keys()\n",
    "#params\n",
    "\n",
    "#p_grid_lr = {'alpha' : [0.001, 0.01, 0.1, 1, 10, 100, 1000]}\n",
    "#p_linReg = Pipeline([('classifier', linReg)])\n",
    "#gs_linReg = GridSearchCV(estimator=p_linReg, param_grid=p_grid_lr, cv = 10, scoring='accuracy')\n",
    "\n",
    "#gs_linReg.fit(X,y)\n",
    "\n",
    "#acc = cross_val_score(gs_linReg, X, y, cv = 10)\n",
    "\n",
    "#print(acc)\n",
    "#print(\"Accuracy: \", acc.mean())\n",
    "\n",
    "#bestLRModel = gs_logReg.best_estimator_\n",
    "\n",
    "linReg.fit(X, y)\n",
    "\n",
    "testSet = pd.read_csv(\"predict.txt\", sep='\\t')\n",
    "\n",
    "testSet = testSet[['QueryText' , 'CommentText']]\n",
    "\n",
    "testData =  processPredictData(testSet)\n",
    "\n",
    "#testData.head()\n",
    "\n",
    "\n",
    "#t = testSet[]\n",
    "\n",
    "#X.head()\n",
    "\n",
    "#\n",
    "\n",
    "#testData\n",
    "\n",
    "predictedData = linReg.predict(testData)\n",
    "predictedData"
   ]
  },
  {
   "cell_type": "code",
   "execution_count": null,
   "metadata": {},
   "outputs": [],
   "source": []
  }
 ],
 "metadata": {
  "kernelspec": {
   "display_name": "Python 3",
   "language": "python",
   "name": "python3"
  },
  "language_info": {
   "codemirror_mode": {
    "name": "ipython",
    "version": 3
   },
   "file_extension": ".py",
   "mimetype": "text/x-python",
   "name": "python",
   "nbconvert_exporter": "python",
   "pygments_lexer": "ipython3",
   "version": "3.8.5"
  }
 },
 "nbformat": 4,
 "nbformat_minor": 4
}
